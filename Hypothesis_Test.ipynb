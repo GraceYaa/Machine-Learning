{
 "cells": [
  {
   "cell_type": "code",
   "execution_count": 1,
   "metadata": {},
   "outputs": [],
   "source": [
    "import numpy as np\n",
    "import pandas as pd\n",
    "import matplotlib.pyplot as plt\n",
    "import seaborn as sns\n",
    "import warnings\n",
    "\n",
    "sns.set(style='darkgrid')\n",
    "plt.rcParams['font.family'] = 'SimHei'\n",
    "plt.rcParams['axes.unicode_minus'] = False\n",
    "warnings.filterwarnings('once')"
   ]
  },
  {
   "cell_type": "markdown",
   "metadata": {},
   "source": [
    "# 假设检验概述"
   ]
  },
  {
   "cell_type": "markdown",
   "metadata": {},
   "source": [
    "## 区间估计"
   ]
  },
  {
   "cell_type": "code",
   "execution_count": 9,
   "metadata": {},
   "outputs": [
    {
     "name": "stdout",
     "output_type": "stream",
     "text": [
      "置信区间：(0.501,0.521)\n"
     ]
    }
   ],
   "source": [
    "a = np.array([0.497, 0.518, 0.506, 0.524, 0.498, 0.511, 0.520, 0.515, 0.512])\n",
    "#总体的均值与标准差\n",
    "mean, std = 0.5, 0.015\n",
    "#计算样本均值\n",
    "sample_mean = a.mean()\n",
    "#计算标准误差\n",
    "se = std / np.sqrt(len(a))\n",
    "#计算置信区间\n",
    "left, right = sample_mean - 1.96 * se, sample_mean + 1.96 * se\n",
    "print(f\"置信区间：({left:.3f},{right:.3f})\")"
   ]
  },
  {
   "cell_type": "code",
   "execution_count": 34,
   "metadata": {
    "scrolled": true
   },
   "outputs": [
    {
     "data": {
      "text/plain": [
       "<matplotlib.legend.Legend at 0x1d5d7ba7978>"
      ]
     },
     "execution_count": 34,
     "metadata": {},
     "output_type": "execute_result"
    },
    {
     "data": {
      "image/png": "[encoded data removed]",
      "text/plain": [
       "<Figure size 576x360 with 1 Axes>"
      ]
     },
     "metadata": {},
     "output_type": "display_data"
    }
   ],
   "source": [
    "#将计算结果可视化\n",
    "plt.figure(figsize=(8, 5))\n",
    "plt.plot(mean, 0, 'c*', label=\"总体均值\")\n",
    "plt.plot(sample_mean, 0, 'mo', label=\"样本均值\")\n",
    "plt.hlines(0, xmin=left, xmax=right, colors='b', label=\"置信区间\")\n",
    "plt.axvline(left, 0.4, 0.6, color=\"r\", ls='--', label=\"左边界\")\n",
    "plt.axvline(right, 0.4, 0.6, color=\"y\", ls='--', label=\"右边界\")\n",
    "plt.legend(loc=1)"
   ]
  },
  {
   "cell_type": "markdown",
   "metadata": {},
   "source": [
    "# Z检验\n",
    "适用情况：\n",
    "- 总体呈正态分布\n",
    "- 总体方差已知\n",
    "- 样本容量较大（一般 > 30 ）"
   ]
  },
  {
   "cell_type": "code",
   "execution_count": 37,
   "metadata": {},
   "outputs": [],
   "source": [
    "from sklearn.datasets import load_iris"
   ]
  },
  {
   "cell_type": "code",
   "execution_count": 44,
   "metadata": {},
   "outputs": [],
   "source": [
    "iris = load_iris()\n",
    "data = np.concatenate([iris.data, iris.target.reshape(-1, 1)], axis=1)"
   ]
  },
  {
   "cell_type": "code",
   "execution_count": 46,
   "metadata": {},
   "outputs": [],
   "source": [
    "data = pd.DataFrame(data,\n",
    "                    columns=[\n",
    "                        \"sepal_length\", \"sepal_width\", \"petal_length\",\n",
    "                        \"petal_width\", \"type\"\n",
    "                    ])"
   ]
  },
  {
   "cell_type": "code",
   "execution_count": null,
   "metadata": {
    "scrolled": false
   },
   "outputs": [],
   "source": [
    "iris"
   ]
  },
  {
   "cell_type": "code",
   "execution_count": 48,
   "metadata": {},
   "outputs": [
    {
     "name": "stdout",
     "output_type": "stream",
     "text": [
      "3.7580000000000027\n"
     ]
    }
   ],
   "source": [
    "print(data[\"petal_length\"].mean())"
   ]
  },
  {
   "cell_type": "code",
   "execution_count": 3,
   "metadata": {},
   "outputs": [
    {
     "name": "stdout",
     "output_type": "stream",
     "text": [
      "统计量Z： 2.244444444444471\n",
      "P-Value值： 0.02480381963225589\n"
     ]
    }
   ],
   "source": [
    "from scipy import stats\n",
    "\n",
    "a = np.array([0.497, 0.518, 0.506, 0.524, 0.498, 0.511, 0.520, 0.515, 0.512])\n",
    "#总体的均值与标准差\n",
    "mean, std = 0.5, 0.015\n",
    "#计算样本均值\n",
    "sample_mean = a.mean()\n",
    "#计算标准误差\n",
    "se = std / np.sqrt(len(a))\n",
    "\n",
    "#计算Z统计量\n",
    "Z = (sample_mean - mean) / se\n",
    "print(\"统计量Z：\", Z)\n",
    "#计算P值\n",
    "P = 2 * stats.norm.sf(abs(Z))\n",
    "print(\"P-Value值：\", P)"
   ]
  },
  {
   "cell_type": "markdown",
   "metadata": {},
   "source": [
    "# T检验\n",
    "适用情况：\n",
    "- 总体呈正态分布\n",
    "- 总体方差未知\n",
    "- 样本数量较少（一般 < 30 ）"
   ]
  },
  {
   "cell_type": "code",
   "execution_count": 10,
   "metadata": {},
   "outputs": [
    {
     "name": "stdout",
     "output_type": "stream",
     "text": [
      "样本均值: 3.7580000000000027\n",
      "样本方差： 1.7652982332594667\n",
      "t统计量： 1.7899761687043467\n",
      "P-Value值： 0.07548856490783468\n"
     ]
    }
   ],
   "source": [
    "from sklearn.datasets import load_iris\n",
    "\n",
    "iris = load_iris()\n",
    "data = pd.DataFrame(\n",
    "    iris.data,\n",
    "    columns=[\"sepal_length\", \"sepal_width\", \"petal_length\", \"petal_width\"])\n",
    "\n",
    "#计算样本均值\n",
    "mean = data[\"petal_length\"].mean()\n",
    "#计算样本方差\n",
    "std = data[\"petal_length\"].std()\n",
    "print(\"样本均值:\", mean)\n",
    "print(\"样本方差：\", std)\n",
    "\n",
    "#计算T统计量\n",
    "t = (mean - 3.5) / (std / np.sqrt(len(data[\"petal_length\"])))\n",
    "print(\"t统计量：\", t)\n",
    "#计算P值\n",
    "#df:自由度，即自变量可以自由取值的个数\n",
    "P = 2 * stats.t.sf(abs(t), df=len(data[\"petal_length\"]) - 1)\n",
    "print(\"P-Value值：\", P)"
   ]
  },
  {
   "cell_type": "code",
   "execution_count": 11,
   "metadata": {},
   "outputs": [],
   "source": [
    "stats.ttest_1samp?"
   ]
  },
  {
   "cell_type": "code",
   "execution_count": 13,
   "metadata": {},
   "outputs": [
    {
     "data": {
      "text/plain": [
       "Ttest_1sampResult(statistic=1.7899761687043318, pvalue=0.07548856490783705)"
      ]
     },
     "execution_count": 13,
     "metadata": {},
     "output_type": "execute_result"
    }
   ],
   "source": [
    "stats.ttest_1samp(data[\"petal_length\"],3.5)"
   ]
  },
  {
   "cell_type": "code",
   "execution_count": 14,
   "metadata": {},
   "outputs": [],
   "source": [
    "stats?"
   ]
  },
  {
   "cell_type": "markdown",
   "metadata": {},
   "source": [
    "# 双边假设与单边假设：注意P值的不同"
   ]
  },
  {
   "cell_type": "markdown",
   "metadata": {},
   "source": [
    "# 作业"
   ]
  },
  {
   "cell_type": "code",
   "execution_count": 19,
   "metadata": {},
   "outputs": [
    {
     "name": "stdout",
     "output_type": "stream",
     "text": [
      "t: 0.15644655469368554\n",
      "P-Value: 0.5595938210714404\n"
     ]
    }
   ],
   "source": [
    "# 2、某公司要求，平均日投诉量均值不得超过1%。\n",
    "#现检查一个部门得服务情况。在该部门维护的一个500人客户群中，\n",
    "#近七天的投诉量分别为5，6，8，4，4，7，0，请问该部门是否达标\n",
    "\n",
    "#1、设定投诉事件总体服从正态分布\n",
    "\n",
    "a = np.array([5, 6, 8, 4, 4, 7, 0]) / 500\n",
    "\n",
    "# 总体均值：\n",
    "mean = 0.01\n",
    "#样本均值：\n",
    "sample_mean = a.mean()\n",
    "#样本标准差：\n",
    "sample_std = a.std()\n",
    "#标准误差：\n",
    "se = sample_std / np.sqrt(len(a))\n",
    "\n",
    "#计算t统计量\n",
    "t = (mean - sample_mean) / se\n",
    "print(\"t:\", t)\n",
    "\n",
    "#计算P值\n",
    "P = stats.t.cdf(t, df=len(a) - 1)\n",
    "print(\"P-Value:\", P)"
   ]
  },
  {
   "cell_type": "code",
   "execution_count": 21,
   "metadata": {},
   "outputs": [
    {
     "data": {
      "text/plain": [
       "0.009714285714285715"
      ]
     },
     "execution_count": 21,
     "metadata": {},
     "output_type": "execute_result"
    }
   ],
   "source": [
    "sample_mean"
   ]
  },
  {
   "cell_type": "code",
   "execution_count": null,
   "metadata": {},
   "outputs": [],
   "source": []
  }
 ],
 "metadata": {
  "kernelspec": {
   "display_name": "Python 3",
   "language": "python",
   "name": "python3"
  },
  "language_info": {
   "codemirror_mode": {
    "name": "ipython",
    "version": 3
   },
   "file_extension": ".py",
   "mimetype": "text/x-python",
   "name": "python",
   "nbconvert_exporter": "python",
   "pygments_lexer": "ipython3",
   "version": "3.7.3"
  },
  "toc": {
   "base_numbering": 1,
   "nav_menu": {},
   "number_sections": true,
   "sideBar": true,
   "skip_h1_title": false,
   "title_cell": "Table of Contents",
   "title_sidebar": "Contents",
   "toc_cell": false,
   "toc_position": {},
   "toc_section_display": true,
   "toc_window_display": false
  }
 },
 "nbformat": 4,
 "nbformat_minor": 4
}
